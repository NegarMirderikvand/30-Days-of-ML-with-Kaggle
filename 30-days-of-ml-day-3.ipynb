{
 "cells": [
  {
   "cell_type": "markdown",
   "id": "a84ce01c",
   "metadata": {
    "papermill": {
     "duration": 0.015098,
     "end_time": "2021-08-05T10:55:30.003308",
     "exception": false,
     "start_time": "2021-08-05T10:55:29.988210",
     "status": "completed"
    },
    "tags": []
   },
   "source": [
    "**This notebook is an exercise in the [Python](https://www.kaggle.com/learn/python) course.  You can reference the tutorial at [this link](https://www.kaggle.com/colinmorris/functions-and-getting-help).**\n",
    "\n",
    "---\n"
   ]
  },
  {
   "cell_type": "markdown",
   "id": "2906269e",
   "metadata": {
    "papermill": {
     "duration": 0.013821,
     "end_time": "2021-08-05T10:55:30.033344",
     "exception": false,
     "start_time": "2021-08-05T10:55:30.019523",
     "status": "completed"
    },
    "tags": []
   },
   "source": [
    "Functions are powerful. Try writing some yourself.\n",
    "\n",
    "As before, don't forget to run the setup code below before jumping into question 1."
   ]
  },
  {
   "cell_type": "code",
   "execution_count": 1,
   "id": "6097d28f",
   "metadata": {
    "_kg_hide-input": true,
    "_kg_hide-output": true,
    "execution": {
     "iopub.execute_input": "2021-08-05T10:55:30.073536Z",
     "iopub.status.busy": "2021-08-05T10:55:30.072835Z",
     "iopub.status.idle": "2021-08-05T10:55:30.197463Z",
     "shell.execute_reply": "2021-08-05T10:55:30.196709Z",
     "shell.execute_reply.started": "2021-08-05T10:24:20.223476Z"
    },
    "papermill": {
     "duration": 0.150198,
     "end_time": "2021-08-05T10:55:30.197622",
     "exception": false,
     "start_time": "2021-08-05T10:55:30.047424",
     "status": "completed"
    },
    "tags": []
   },
   "outputs": [
    {
     "name": "stdout",
     "output_type": "stream",
     "text": [
      "Setup complete.\n"
     ]
    }
   ],
   "source": [
    "# SETUP. You don't need to worry for now about what this code does or how it works.\n",
    "from learntools.core import binder; binder.bind(globals())\n",
    "from learntools.python.ex2 import *\n",
    "print('Setup complete.')"
   ]
  },
  {
   "cell_type": "markdown",
   "id": "e768b0c3",
   "metadata": {
    "papermill": {
     "duration": 0.017579,
     "end_time": "2021-08-05T10:55:30.230456",
     "exception": false,
     "start_time": "2021-08-05T10:55:30.212877",
     "status": "completed"
    },
    "tags": []
   },
   "source": [
    "# 1.\n",
    "\n",
    "Complete the body of the following function according to its docstring.\n",
    "\n",
    "HINT: Python has a built-in function `round`."
   ]
  },
  {
   "cell_type": "code",
   "execution_count": 2,
   "id": "873eb268",
   "metadata": {
    "execution": {
     "iopub.execute_input": "2021-08-05T10:55:30.270773Z",
     "iopub.status.busy": "2021-08-05T10:55:30.270104Z",
     "iopub.status.idle": "2021-08-05T10:55:30.279869Z",
     "shell.execute_reply": "2021-08-05T10:55:30.279243Z",
     "shell.execute_reply.started": "2021-08-05T10:28:24.944188Z"
    },
    "papermill": {
     "duration": 0.033382,
     "end_time": "2021-08-05T10:55:30.280048",
     "exception": false,
     "start_time": "2021-08-05T10:55:30.246666",
     "status": "completed"
    },
    "tags": []
   },
   "outputs": [
    {
     "data": {
      "application/javascript": [
       "parent.postMessage({\"jupyterEvent\": \"custom.exercise_interaction\", \"data\": {\"outcomeType\": 1, \"valueTowardsCompletion\": 0.16666666666666666, \"interactionType\": 1, \"questionType\": 2, \"questionId\": \"1_RoundFunctionProblem\", \"learnToolsVersion\": \"0.3.4\", \"failureMessage\": \"\", \"exceptionClass\": \"\", \"trace\": \"\"}}, \"*\")"
      ],
      "text/plain": [
       "<IPython.core.display.Javascript object>"
      ]
     },
     "metadata": {},
     "output_type": "display_data"
    },
    {
     "data": {
      "text/markdown": [
       "<span style=\"color:#33cc33\">Correct</span>"
      ],
      "text/plain": [
       "Correct"
      ]
     },
     "metadata": {},
     "output_type": "display_data"
    }
   ],
   "source": [
    "def round_to_two_places(num):\n",
    "    \"\"\"Return the given number rounded to two decimal places. \n",
    "    \n",
    "    >>> round_to_two_places(3.14159)\n",
    "    3.14\n",
    "    \"\"\"\n",
    "    # Replace this body with your own code.\n",
    "    # (\"pass\" is a keyword that does literally nothing. We used it as a placeholder\n",
    "    # because after we begin a code block, Python requires at least one line of code)\n",
    "    return round(num, 2)\n",
    "\n",
    "# Check your answer\n",
    "q1.check()"
   ]
  },
  {
   "cell_type": "code",
   "execution_count": 3,
   "id": "0bdf2683",
   "metadata": {
    "execution": {
     "iopub.execute_input": "2021-08-05T10:55:30.315698Z",
     "iopub.status.busy": "2021-08-05T10:55:30.315034Z",
     "iopub.status.idle": "2021-08-05T10:55:30.316766Z",
     "shell.execute_reply": "2021-08-05T10:55:30.317285Z"
    },
    "papermill": {
     "duration": 0.021601,
     "end_time": "2021-08-05T10:55:30.317469",
     "exception": false,
     "start_time": "2021-08-05T10:55:30.295868",
     "status": "completed"
    },
    "tags": []
   },
   "outputs": [],
   "source": [
    "# Uncomment the following for a hint\n",
    "#q1.hint()\n",
    "# Or uncomment the following to peek at the solution\n",
    "#q1.solution()"
   ]
  },
  {
   "cell_type": "markdown",
   "id": "ddcf2959",
   "metadata": {
    "papermill": {
     "duration": 0.015693,
     "end_time": "2021-08-05T10:55:30.351094",
     "exception": false,
     "start_time": "2021-08-05T10:55:30.335401",
     "status": "completed"
    },
    "tags": []
   },
   "source": [
    "# 2.\n",
    "The help for `round` says that `ndigits` (the second argument) may be negative.\n",
    "What do you think will happen when it is? Try some examples in the following cell."
   ]
  },
  {
   "cell_type": "code",
   "execution_count": 4,
   "id": "d5275544",
   "metadata": {
    "execution": {
     "iopub.execute_input": "2021-08-05T10:55:30.385335Z",
     "iopub.status.busy": "2021-08-05T10:55:30.384676Z",
     "iopub.status.idle": "2021-08-05T10:55:30.389492Z",
     "shell.execute_reply": "2021-08-05T10:55:30.390059Z",
     "shell.execute_reply.started": "2021-08-05T10:31:12.770694Z"
    },
    "papermill": {
     "duration": 0.023473,
     "end_time": "2021-08-05T10:55:30.390244",
     "exception": false,
     "start_time": "2021-08-05T10:55:30.366771",
     "status": "completed"
    },
    "tags": []
   },
   "outputs": [
    {
     "data": {
      "text/plain": [
       "512300.0"
      ]
     },
     "execution_count": 4,
     "metadata": {},
     "output_type": "execute_result"
    }
   ],
   "source": [
    "# Put your test code here\n",
    "round(512321.23456, -2)"
   ]
  },
  {
   "cell_type": "markdown",
   "id": "bb0453a4",
   "metadata": {
    "papermill": {
     "duration": 0.015571,
     "end_time": "2021-08-05T10:55:30.421758",
     "exception": false,
     "start_time": "2021-08-05T10:55:30.406187",
     "status": "completed"
    },
    "tags": []
   },
   "source": [
    "Can you think of a case where this would be useful?  Once you're ready, run the code cell below to see the answer and to receive credit for completing the problem."
   ]
  },
  {
   "cell_type": "code",
   "execution_count": 5,
   "id": "d3e5d934",
   "metadata": {
    "execution": {
     "iopub.execute_input": "2021-08-05T10:55:30.456653Z",
     "iopub.status.busy": "2021-08-05T10:55:30.456008Z",
     "iopub.status.idle": "2021-08-05T10:55:30.462229Z",
     "shell.execute_reply": "2021-08-05T10:55:30.462749Z",
     "shell.execute_reply.started": "2021-08-05T10:30:07.432256Z"
    },
    "papermill": {
     "duration": 0.025237,
     "end_time": "2021-08-05T10:55:30.462912",
     "exception": false,
     "start_time": "2021-08-05T10:55:30.437675",
     "status": "completed"
    },
    "tags": []
   },
   "outputs": [
    {
     "data": {
      "application/javascript": [
       "parent.postMessage({\"jupyterEvent\": \"custom.exercise_interaction\", \"data\": {\"interactionType\": 3, \"questionType\": 4, \"questionId\": \"2_RoundNdigitsProblem\", \"learnToolsVersion\": \"0.3.4\", \"valueTowardsCompletion\": 0.0, \"failureMessage\": \"\", \"exceptionClass\": \"\", \"trace\": \"\", \"outcomeType\": 4}}, \"*\")"
      ],
      "text/plain": [
       "<IPython.core.display.Javascript object>"
      ]
     },
     "metadata": {},
     "output_type": "display_data"
    },
    {
     "data": {
      "text/markdown": [
       "<span style=\"color:#33cc99\">Solution:</span> As you've seen, `ndigits=-1` rounds to the nearest 10, `ndigits=-2` rounds to the nearest 100 and so on. Where might this be useful? Suppose we're dealing with large numbers:\n",
       "\n",
       "> The area of Finland is 338,424 km²  \n",
       "> The area of Greenland is 2,166,086 km²\n",
       "\n",
       "We probably don't care whether it's really 338,424, or 338,425, or 338,177. All those digits of accuracy are just distracting. We can chop them off by calling `round()` with `ndigits=-3`:\n",
       "\n",
       "> The area of Finland is 338,000 km²  \n",
       "> The area of Greenland is 2,166,000 km²\n",
       "\n",
       "(We'll talk about how we would get the commas later when we talk about string formatting :))\n"
      ],
      "text/plain": [
       "Solution: As you've seen, `ndigits=-1` rounds to the nearest 10, `ndigits=-2` rounds to the nearest 100 and so on. Where might this be useful? Suppose we're dealing with large numbers:\n",
       "\n",
       "> The area of Finland is 338,424 km²  \n",
       "> The area of Greenland is 2,166,086 km²\n",
       "\n",
       "We probably don't care whether it's really 338,424, or 338,425, or 338,177. All those digits of accuracy are just distracting. We can chop them off by calling `round()` with `ndigits=-3`:\n",
       "\n",
       "> The area of Finland is 338,000 km²  \n",
       "> The area of Greenland is 2,166,000 km²\n",
       "\n",
       "(We'll talk about how we would get the commas later when we talk about string formatting :))"
      ]
     },
     "metadata": {},
     "output_type": "display_data"
    }
   ],
   "source": [
    "# Check your answer (Run this code cell to receive credit!)\n",
    "q2.solution()"
   ]
  },
  {
   "cell_type": "markdown",
   "id": "f840a649",
   "metadata": {
    "papermill": {
     "duration": 0.016409,
     "end_time": "2021-08-05T10:55:30.496392",
     "exception": false,
     "start_time": "2021-08-05T10:55:30.479983",
     "status": "completed"
    },
    "tags": []
   },
   "source": [
    "# 3.\n",
    "\n",
    "In the previous exercise, the candy-sharing friends Alice, Bob and Carol tried to split candies evenly. For the sake of their friendship, any candies left over would be smashed. For example, if they collectively bring home 91 candies, they'll take 30 each and smash 1.\n",
    "\n",
    "Below is a simple function that will calculate the number of candies to smash for *any* number of total candies.\n",
    "\n",
    "Modify it so that it optionally takes a second argument representing the number of friends the candies are being split between. If no second argument is provided, it should assume 3 friends, as before.\n",
    "\n",
    "Update the docstring to reflect this new behaviour."
   ]
  },
  {
   "cell_type": "code",
   "execution_count": 6,
   "id": "12afb1b3",
   "metadata": {
    "execution": {
     "iopub.execute_input": "2021-08-05T10:55:30.533843Z",
     "iopub.status.busy": "2021-08-05T10:55:30.533245Z",
     "iopub.status.idle": "2021-08-05T10:55:30.540280Z",
     "shell.execute_reply": "2021-08-05T10:55:30.540794Z",
     "shell.execute_reply.started": "2021-08-05T10:38:32.897830Z"
    },
    "papermill": {
     "duration": 0.026947,
     "end_time": "2021-08-05T10:55:30.540992",
     "exception": false,
     "start_time": "2021-08-05T10:55:30.514045",
     "status": "completed"
    },
    "tags": []
   },
   "outputs": [
    {
     "data": {
      "application/javascript": [
       "parent.postMessage({\"jupyterEvent\": \"custom.exercise_interaction\", \"data\": {\"outcomeType\": 1, \"valueTowardsCompletion\": 0.16666666666666666, \"interactionType\": 1, \"questionType\": 2, \"questionId\": \"3_CandySmashingFunctionProblem\", \"learnToolsVersion\": \"0.3.4\", \"failureMessage\": \"\", \"exceptionClass\": \"\", \"trace\": \"\"}}, \"*\")"
      ],
      "text/plain": [
       "<IPython.core.display.Javascript object>"
      ]
     },
     "metadata": {},
     "output_type": "display_data"
    },
    {
     "data": {
      "text/markdown": [
       "<span style=\"color:#33cc33\">Correct</span>"
      ],
      "text/plain": [
       "Correct"
      ]
     },
     "metadata": {},
     "output_type": "display_data"
    }
   ],
   "source": [
    "def to_smash(total_candies, friends = 3):\n",
    "    \"\"\"Return the number of leftover candies that must be smashed after distributing\n",
    "    the given number of candies evenly between 3 friends.\n",
    "    \n",
    "    >>> to_smash(91)\n",
    "    1\n",
    "    \"\"\"\n",
    "    return total_candies % friends\n",
    "\n",
    "# Check your answer\n",
    "q3.check()"
   ]
  },
  {
   "cell_type": "code",
   "execution_count": 7,
   "id": "3379bf7f",
   "metadata": {
    "execution": {
     "iopub.execute_input": "2021-08-05T10:55:30.579687Z",
     "iopub.status.busy": "2021-08-05T10:55:30.579061Z",
     "iopub.status.idle": "2021-08-05T10:55:30.585575Z",
     "shell.execute_reply": "2021-08-05T10:55:30.586151Z",
     "shell.execute_reply.started": "2021-08-05T10:38:39.775415Z"
    },
    "papermill": {
     "duration": 0.027354,
     "end_time": "2021-08-05T10:55:30.586326",
     "exception": false,
     "start_time": "2021-08-05T10:55:30.558972",
     "status": "completed"
    },
    "tags": []
   },
   "outputs": [
    {
     "data": {
      "application/javascript": [
       "parent.postMessage({\"jupyterEvent\": \"custom.exercise_interaction\", \"data\": {\"interactionType\": 2, \"questionType\": 2, \"questionId\": \"3_CandySmashingFunctionProblem\", \"learnToolsVersion\": \"0.3.4\", \"valueTowardsCompletion\": 0.0, \"failureMessage\": \"\", \"exceptionClass\": \"\", \"trace\": \"\", \"outcomeType\": 4}}, \"*\")"
      ],
      "text/plain": [
       "<IPython.core.display.Javascript object>"
      ]
     },
     "metadata": {},
     "output_type": "display_data"
    },
    {
     "data": {
      "text/markdown": [
       "<span style=\"color:#3366cc\">Hint:</span> Refer to the section of the last tutorial notebook where we talked about default arguments"
      ],
      "text/plain": [
       "Hint: Refer to the section of the last tutorial notebook where we talked about default arguments"
      ]
     },
     "metadata": {},
     "output_type": "display_data"
    }
   ],
   "source": [
    "q3.hint()"
   ]
  },
  {
   "cell_type": "code",
   "execution_count": 8,
   "id": "0852c9be",
   "metadata": {
    "execution": {
     "iopub.execute_input": "2021-08-05T10:55:30.627219Z",
     "iopub.status.busy": "2021-08-05T10:55:30.626587Z",
     "iopub.status.idle": "2021-08-05T10:55:30.632977Z",
     "shell.execute_reply": "2021-08-05T10:55:30.633443Z",
     "shell.execute_reply.started": "2021-08-05T10:38:42.882790Z"
    },
    "papermill": {
     "duration": 0.02838,
     "end_time": "2021-08-05T10:55:30.633615",
     "exception": false,
     "start_time": "2021-08-05T10:55:30.605235",
     "status": "completed"
    },
    "tags": []
   },
   "outputs": [
    {
     "data": {
      "application/javascript": [
       "parent.postMessage({\"jupyterEvent\": \"custom.exercise_interaction\", \"data\": {\"interactionType\": 3, \"questionType\": 2, \"questionId\": \"3_CandySmashingFunctionProblem\", \"learnToolsVersion\": \"0.3.4\", \"valueTowardsCompletion\": 0.0, \"failureMessage\": \"\", \"exceptionClass\": \"\", \"trace\": \"\", \"outcomeType\": 4}}, \"*\")"
      ],
      "text/plain": [
       "<IPython.core.display.Javascript object>"
      ]
     },
     "metadata": {},
     "output_type": "display_data"
    },
    {
     "data": {
      "text/markdown": [
       "<span style=\"color:#33cc99\">Solution:</span> \n",
       "```python\n",
       "def to_smash(total_candies, n_friends=3):\n",
       "    return total_candies % n_friends\n",
       "```"
      ],
      "text/plain": [
       "Solution: \n",
       "```python\n",
       "def to_smash(total_candies, n_friends=3):\n",
       "    return total_candies % n_friends\n",
       "```"
      ]
     },
     "metadata": {},
     "output_type": "display_data"
    }
   ],
   "source": [
    "q3.solution()"
   ]
  },
  {
   "cell_type": "markdown",
   "id": "71841ed0",
   "metadata": {
    "papermill": {
     "duration": 0.019644,
     "end_time": "2021-08-05T10:55:30.673242",
     "exception": false,
     "start_time": "2021-08-05T10:55:30.653598",
     "status": "completed"
    },
    "tags": []
   },
   "source": [
    "# 4. (Optional)\n",
    "\n",
    "It may not be fun, but reading and understanding error messages will be an important part of your Python career.\n",
    "\n",
    "Each code cell below contains some commented buggy code. For each cell...\n",
    "\n",
    "1. Read the code and predict what you think will happen when it's run.\n",
    "2. Then uncomment the code and run it to see what happens. (**Tip**: In the kernel editor, you can highlight several lines and press `ctrl`+`/` to toggle commenting.)\n",
    "3. Fix the code (so that it accomplishes its intended purpose without throwing an exception)\n",
    "\n",
    "<!-- TODO: should this be autochecked? Delta is probably pretty small. -->"
   ]
  },
  {
   "cell_type": "code",
   "execution_count": 9,
   "id": "6fe2acf8",
   "metadata": {
    "execution": {
     "iopub.execute_input": "2021-08-05T10:55:30.723225Z",
     "iopub.status.busy": "2021-08-05T10:55:30.722561Z",
     "iopub.status.idle": "2021-08-05T10:55:30.725848Z",
     "shell.execute_reply": "2021-08-05T10:55:30.726723Z",
     "shell.execute_reply.started": "2021-08-05T10:50:24.907927Z"
    },
    "papermill": {
     "duration": 0.033551,
     "end_time": "2021-08-05T10:55:30.726962",
     "exception": false,
     "start_time": "2021-08-05T10:55:30.693411",
     "status": "completed"
    },
    "tags": []
   },
   "outputs": [
    {
     "data": {
      "text/plain": [
       "10.0"
      ]
     },
     "execution_count": 9,
     "metadata": {},
     "output_type": "execute_result"
    }
   ],
   "source": [
    "round_to_two_places(9.9999)"
   ]
  },
  {
   "cell_type": "code",
   "execution_count": 10,
   "id": "5bd49e52",
   "metadata": {
    "execution": {
     "iopub.execute_input": "2021-08-05T10:55:30.780582Z",
     "iopub.status.busy": "2021-08-05T10:55:30.779803Z",
     "iopub.status.idle": "2021-08-05T10:55:30.786444Z",
     "shell.execute_reply": "2021-08-05T10:55:30.787145Z",
     "shell.execute_reply.started": "2021-08-05T10:54:05.560340Z"
    },
    "papermill": {
     "duration": 0.03755,
     "end_time": "2021-08-05T10:55:30.787378",
     "exception": false,
     "start_time": "2021-08-05T10:55:30.749828",
     "status": "completed"
    },
    "tags": []
   },
   "outputs": [
    {
     "name": "stdout",
     "output_type": "stream",
     "text": [
      "5\n"
     ]
    }
   ],
   "source": [
    "x = -10\n",
    "y = 5\n",
    "# # Which of the two variables above has the smallest absolute value?\n",
    "smallest_abs = min(abs(x), abs(y))\n",
    "print(smallest_abs)"
   ]
  },
  {
   "cell_type": "code",
   "execution_count": 11,
   "id": "d4862fba",
   "metadata": {
    "execution": {
     "iopub.execute_input": "2021-08-05T10:55:30.837312Z",
     "iopub.status.busy": "2021-08-05T10:55:30.836309Z",
     "iopub.status.idle": "2021-08-05T10:55:30.842874Z",
     "shell.execute_reply": "2021-08-05T10:55:30.843390Z",
     "shell.execute_reply.started": "2021-08-05T10:54:33.152372Z"
    },
    "papermill": {
     "duration": 0.031387,
     "end_time": "2021-08-05T10:55:30.843574",
     "exception": false,
     "start_time": "2021-08-05T10:55:30.812187",
     "status": "completed"
    },
    "tags": []
   },
   "outputs": [
    {
     "name": "stdout",
     "output_type": "stream",
     "text": [
      "5\n"
     ]
    }
   ],
   "source": [
    "def f(x):\n",
    "    y = abs(x)\n",
    "    return y\n",
    "\n",
    "print(f(-5))"
   ]
  },
  {
   "cell_type": "markdown",
   "id": "d3bba7a4",
   "metadata": {
    "papermill": {
     "duration": 0.020981,
     "end_time": "2021-08-05T10:55:30.886259",
     "exception": false,
     "start_time": "2021-08-05T10:55:30.865278",
     "status": "completed"
    },
    "tags": []
   },
   "source": [
    "# Keep Going\n",
    "\n",
    "Nice job with the code. Next up, you'll learn about *conditionals*, which you'll need to **[write interesting programs](https://www.kaggle.com/colinmorris/booleans-and-conditionals)**. "
   ]
  },
  {
   "cell_type": "markdown",
   "id": "1f5b93f3",
   "metadata": {
    "papermill": {
     "duration": 0.020599,
     "end_time": "2021-08-05T10:55:30.928856",
     "exception": false,
     "start_time": "2021-08-05T10:55:30.908257",
     "status": "completed"
    },
    "tags": []
   },
   "source": [
    "---\n",
    "\n",
    "\n",
    "\n",
    "\n",
    "*Have questions or comments? Visit the [Learn Discussion forum](https://www.kaggle.com/learn-forum/161283) to chat with other Learners.*"
   ]
  }
 ],
 "metadata": {
  "kernelspec": {
   "display_name": "Python 3",
   "language": "python",
   "name": "python3"
  },
  "language_info": {
   "codemirror_mode": {
    "name": "ipython",
    "version": 3
   },
   "file_extension": ".py",
   "mimetype": "text/x-python",
   "name": "python",
   "nbconvert_exporter": "python",
   "pygments_lexer": "ipython3",
   "version": "3.7.10"
  },
  "papermill": {
   "default_parameters": {},
   "duration": 9.654921,
   "end_time": "2021-08-05T10:55:31.559235",
   "environment_variables": {},
   "exception": null,
   "input_path": "__notebook__.ipynb",
   "output_path": "__notebook__.ipynb",
   "parameters": {},
   "start_time": "2021-08-05T10:55:21.904314",
   "version": "2.3.3"
  }
 },
 "nbformat": 4,
 "nbformat_minor": 5
}
