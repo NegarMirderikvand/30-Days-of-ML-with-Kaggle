{
 "cells": [
  {
   "cell_type": "markdown",
   "id": "3edc2881",
   "metadata": {
    "papermill": {
     "duration": 0.022136,
     "end_time": "2021-08-04T15:11:50.740824",
     "exception": false,
     "start_time": "2021-08-04T15:11:50.718688",
     "status": "completed"
    },
    "tags": []
   },
   "source": [
    "**This notebook is an exercise in the [Python](https://www.kaggle.com/learn/python) course.  You can reference the tutorial at [this link](https://www.kaggle.com/colinmorris/hello-python).**\n",
    "\n",
    "---\n"
   ]
  },
  {
   "cell_type": "markdown",
   "id": "7b441a7c",
   "metadata": {
    "papermill": {
     "duration": 0.020768,
     "end_time": "2021-08-04T15:11:50.782942",
     "exception": false,
     "start_time": "2021-08-04T15:11:50.762174",
     "status": "completed"
    },
    "tags": []
   },
   "source": [
    "Welcome to your first set of Python coding problems.  If this is your first time using Kaggle Notebooks, welcome! \n",
    "\n",
    "Notebooks are composed of blocks (called \"cells\") of text and code. Each of these is editable, though you'll mainly be editing the code cells to answer some questions.\n",
    "\n",
    "To get started, try running the code cell below (by pressing the ► button, or clicking on the cell and pressing ctrl+enter on your keyboard)."
   ]
  },
  {
   "cell_type": "code",
   "execution_count": 1,
   "id": "a37e7c99",
   "metadata": {
    "execution": {
     "iopub.execute_input": "2021-08-04T15:11:50.829705Z",
     "iopub.status.busy": "2021-08-04T15:11:50.828532Z",
     "iopub.status.idle": "2021-08-04T15:11:50.840406Z",
     "shell.execute_reply": "2021-08-04T15:11:50.841131Z",
     "shell.execute_reply.started": "2021-08-04T14:38:48.989953Z"
    },
    "papermill": {
     "duration": 0.038026,
     "end_time": "2021-08-04T15:11:50.841664",
     "exception": false,
     "start_time": "2021-08-04T15:11:50.803638",
     "status": "completed"
    },
    "tags": []
   },
   "outputs": [
    {
     "name": "stdout",
     "output_type": "stream",
     "text": [
      "You've successfully run some Python code\n",
      "Congratulations!\n"
     ]
    }
   ],
   "source": [
    "print(\"You've successfully run some Python code\")\n",
    "print(\"Congratulations!\")"
   ]
  },
  {
   "cell_type": "markdown",
   "id": "d6e983d3",
   "metadata": {
    "papermill": {
     "duration": 0.021025,
     "end_time": "2021-08-04T15:11:50.885539",
     "exception": false,
     "start_time": "2021-08-04T15:11:50.864514",
     "status": "completed"
    },
    "tags": []
   },
   "source": [
    "Try adding another line of code in the cell above and re-running it. \n",
    "\n",
    "Now let's get a little fancier:  Add a new code cell by clicking on an existing code cell, hitting the escape key, and then hitting the `a` or `b` key.  The `a` key will add a cell above the current cell, and `b` adds a cell below.\n",
    "\n",
    "Great! Now you know how to use Notebooks.\n",
    "\n",
    "Each hands-on exercise starts by setting up our feedback and code checking mechanism. Run the code cell below to do that. Then you'll be ready to move on to question 0."
   ]
  },
  {
   "cell_type": "code",
   "execution_count": 2,
   "id": "c8b651c0",
   "metadata": {
    "_kg_hide-input": true,
    "_kg_hide-output": true,
    "execution": {
     "iopub.execute_input": "2021-08-04T15:11:50.931784Z",
     "iopub.status.busy": "2021-08-04T15:11:50.931031Z",
     "iopub.status.idle": "2021-08-04T15:11:51.119262Z",
     "shell.execute_reply": "2021-08-04T15:11:51.118305Z",
     "shell.execute_reply.started": "2021-08-04T14:41:08.654608Z"
    },
    "papermill": {
     "duration": 0.212493,
     "end_time": "2021-08-04T15:11:51.119452",
     "exception": false,
     "start_time": "2021-08-04T15:11:50.906959",
     "status": "completed"
    },
    "tags": []
   },
   "outputs": [
    {
     "name": "stdout",
     "output_type": "stream",
     "text": [
      "Setup complete! You're ready to start question 0.\n"
     ]
    }
   ],
   "source": [
    "from learntools.core import binder; binder.bind(globals())\n",
    "from learntools.python.ex1 import *\n",
    "print(\"Setup complete! You're ready to start question 0.\")"
   ]
  },
  {
   "cell_type": "markdown",
   "id": "9ed04797",
   "metadata": {
    "papermill": {
     "duration": 0.020755,
     "end_time": "2021-08-04T15:11:51.161942",
     "exception": false,
     "start_time": "2021-08-04T15:11:51.141187",
     "status": "completed"
    },
    "tags": []
   },
   "source": [
    "# 0.\n",
    "\n",
    "*This is a silly question intended as an introduction to the format we use for hands-on exercises throughout all Kaggle courses.*\n",
    "\n",
    "**What is your favorite color? **\n",
    "\n",
    "To complete this question, create a variable called `color` in the cell below with an appropriate value. The function call `q0.check()` (which we've already provided in the cell below) will check your answer."
   ]
  },
  {
   "cell_type": "code",
   "execution_count": 3,
   "id": "bcd95a51",
   "metadata": {
    "execution": {
     "iopub.execute_input": "2021-08-04T15:11:51.212701Z",
     "iopub.status.busy": "2021-08-04T15:11:51.211987Z",
     "iopub.status.idle": "2021-08-04T15:11:51.218796Z",
     "shell.execute_reply": "2021-08-04T15:11:51.218274Z",
     "shell.execute_reply.started": "2021-08-04T14:43:18.786081Z"
    },
    "papermill": {
     "duration": 0.035922,
     "end_time": "2021-08-04T15:11:51.218977",
     "exception": false,
     "start_time": "2021-08-04T15:11:51.183055",
     "status": "completed"
    },
    "tags": []
   },
   "outputs": [
    {
     "data": {
      "application/javascript": [
       "parent.postMessage({\"jupyterEvent\": \"custom.exercise_interaction\", \"data\": {\"outcomeType\": 1, \"valueTowardsCompletion\": 0.25, \"interactionType\": 1, \"questionType\": 2, \"questionId\": \"0_ExerciseFormatTutorial\", \"learnToolsVersion\": \"0.3.4\", \"failureMessage\": \"\", \"exceptionClass\": \"\", \"trace\": \"\"}}, \"*\")"
      ],
      "text/plain": [
       "<IPython.core.display.Javascript object>"
      ]
     },
     "metadata": {},
     "output_type": "display_data"
    },
    {
     "data": {
      "text/markdown": [
       "<span style=\"color:#33cc33\">Correct:</span> What?! You got it right without needing a hint or anything? Drats. Well hey, you should still continue to the next step to get some practice asking for a hint and checking solutions. (Even though you obviously don't need any help here.)"
      ],
      "text/plain": [
       "Correct: What?! You got it right without needing a hint or anything? Drats. Well hey, you should still continue to the next step to get some practice asking for a hint and checking solutions. (Even though you obviously don't need any help here.)"
      ]
     },
     "metadata": {},
     "output_type": "display_data"
    }
   ],
   "source": [
    "# create a variable called color with an appropriate value on the line below\n",
    "color = 'blue'\n",
    "# (Remember, strings in Python must be enclosed in 'single' or \"double\" quotes)\n",
    "____\n",
    "\n",
    "# Check your answer\n",
    "q0.check()"
   ]
  },
  {
   "cell_type": "markdown",
   "id": "a3437505",
   "metadata": {
    "papermill": {
     "duration": 0.021699,
     "end_time": "2021-08-04T15:11:51.262839",
     "exception": false,
     "start_time": "2021-08-04T15:11:51.241140",
     "status": "completed"
    },
    "tags": []
   },
   "source": [
    "Didn't get the right answer? How do you not even know your own favorite color?!\n",
    "\n",
    "Delete the `#` in the line below to make one of the lines run. You can choose between getting a hint or the full answer by choosing which line to remove the `#` from. \n",
    "\n",
    "Removing the `#` is called uncommenting, because it changes that line from a \"comment\" which Python doesn't run to code, which Python does run."
   ]
  },
  {
   "cell_type": "code",
   "execution_count": 4,
   "id": "a084f7f5",
   "metadata": {
    "execution": {
     "iopub.execute_input": "2021-08-04T15:11:51.312043Z",
     "iopub.status.busy": "2021-08-04T15:11:51.311004Z",
     "iopub.status.idle": "2021-08-04T15:11:51.314080Z",
     "shell.execute_reply": "2021-08-04T15:11:51.313409Z",
     "shell.execute_reply.started": "2021-08-04T14:43:49.420506Z"
    },
    "papermill": {
     "duration": 0.029386,
     "end_time": "2021-08-04T15:11:51.314237",
     "exception": false,
     "start_time": "2021-08-04T15:11:51.284851",
     "status": "completed"
    },
    "tags": []
   },
   "outputs": [],
   "source": [
    "#q0.hint()\n",
    "#q0.solution()"
   ]
  },
  {
   "cell_type": "markdown",
   "id": "290125d2",
   "metadata": {
    "papermill": {
     "duration": 0.021537,
     "end_time": "2021-08-04T15:11:51.358094",
     "exception": false,
     "start_time": "2021-08-04T15:11:51.336557",
     "status": "completed"
    },
    "tags": []
   },
   "source": [
    "The upcoming questions work the same way. The only thing that will change are the question numbers. For the next question, you'll call `q1.check()`, `q1.hint()`, `q1.solution()`, for question 2, you'll call `q2.check()`, and so on."
   ]
  },
  {
   "cell_type": "markdown",
   "id": "8f889a8f",
   "metadata": {
    "papermill": {
     "duration": 0.021398,
     "end_time": "2021-08-04T15:11:51.401479",
     "exception": false,
     "start_time": "2021-08-04T15:11:51.380081",
     "status": "completed"
    },
    "tags": []
   },
   "source": [
    "<hr/>\n",
    "\n",
    "# 1.\n",
    "\n",
    "Complete the code below. In case it's helpful, here is the table of available arithmetic operations:\n",
    "\n",
    "\n",
    "\n",
    "| Operator     | Name           | Description                                            |\n",
    "|--------------|----------------|--------------------------------------------------------|\n",
    "| ``a + b``    | Addition       | Sum of ``a`` and ``b``                                 |\n",
    "| ``a - b``    | Subtraction    | Difference of ``a`` and ``b``                          |\n",
    "| ``a * b``    | Multiplication | Product of ``a`` and ``b``                             |\n",
    "| ``a / b``    | True division  | Quotient of ``a`` and ``b``                            |\n",
    "| ``a // b``   | Floor division | Quotient of ``a`` and ``b``, removing fractional parts |\n",
    "| ``a % b``    | Modulus        | Integer remainder after division of ``a`` by ``b``     |\n",
    "| ``a ** b``   | Exponentiation | ``a`` raised to the power of ``b``                     |\n",
    "| ``-a``       | Negation       | The negative of ``a``                                  |\n",
    "\n",
    "<span style=\"display:none\"></span>\n"
   ]
  },
  {
   "cell_type": "code",
   "execution_count": 5,
   "id": "724a5d57",
   "metadata": {
    "execution": {
     "iopub.execute_input": "2021-08-04T15:11:51.451698Z",
     "iopub.status.busy": "2021-08-04T15:11:51.450833Z",
     "iopub.status.idle": "2021-08-04T15:11:51.456609Z",
     "shell.execute_reply": "2021-08-04T15:11:51.455939Z",
     "shell.execute_reply.started": "2021-08-04T14:51:50.474274Z"
    },
    "papermill": {
     "duration": 0.033544,
     "end_time": "2021-08-04T15:11:51.456775",
     "exception": false,
     "start_time": "2021-08-04T15:11:51.423231",
     "status": "completed"
    },
    "tags": []
   },
   "outputs": [
    {
     "data": {
      "application/javascript": [
       "parent.postMessage({\"jupyterEvent\": \"custom.exercise_interaction\", \"data\": {\"outcomeType\": 1, \"valueTowardsCompletion\": 0.25, \"interactionType\": 1, \"questionType\": 1, \"questionId\": \"1_CircleArea\", \"learnToolsVersion\": \"0.3.4\", \"failureMessage\": \"\", \"exceptionClass\": \"\", \"trace\": \"\"}}, \"*\")"
      ],
      "text/plain": [
       "<IPython.core.display.Javascript object>"
      ]
     },
     "metadata": {},
     "output_type": "display_data"
    },
    {
     "data": {
      "text/markdown": [
       "<span style=\"color:#33cc33\">Correct</span>"
      ],
      "text/plain": [
       "Correct"
      ]
     },
     "metadata": {},
     "output_type": "display_data"
    }
   ],
   "source": [
    "pi = 3.14159 # approximate\n",
    "diameter = 3\n",
    "\n",
    "# Create a variable called 'radius' equal to half the diameter\n",
    "radius = diameter/2\n",
    "____\n",
    "\n",
    "# Create a variable called 'area', using the formula for the area of a circle: pi times the radius squared\\\n",
    "area = float(pi) * float(radius ** 2)\n",
    "____\n",
    "\n",
    "# Check your answer\n",
    "q1.check()"
   ]
  },
  {
   "cell_type": "code",
   "execution_count": 6,
   "id": "6a9c3b59",
   "metadata": {
    "execution": {
     "iopub.execute_input": "2021-08-04T15:11:51.508728Z",
     "iopub.status.busy": "2021-08-04T15:11:51.507766Z",
     "iopub.status.idle": "2021-08-04T15:11:51.510984Z",
     "shell.execute_reply": "2021-08-04T15:11:51.510330Z",
     "shell.execute_reply.started": "2021-08-04T14:50:47.550380Z"
    },
    "papermill": {
     "duration": 0.030887,
     "end_time": "2021-08-04T15:11:51.511150",
     "exception": false,
     "start_time": "2021-08-04T15:11:51.480263",
     "status": "completed"
    },
    "tags": []
   },
   "outputs": [],
   "source": [
    "# Uncomment and run the lines below if you need help.\n",
    "#q1.hint()\n",
    "# q1.solution()"
   ]
  },
  {
   "cell_type": "markdown",
   "id": "5549c5b3",
   "metadata": {
    "papermill": {
     "duration": 0.022738,
     "end_time": "2021-08-04T15:11:51.556732",
     "exception": false,
     "start_time": "2021-08-04T15:11:51.533994",
     "status": "completed"
    },
    "tags": []
   },
   "source": [
    "<hr/>\n",
    "\n",
    "# 2.\n",
    "\n",
    "Add code to the following cell to swap variables `a` and `b` (so that `a` refers to the object previously referred to by `b` and vice versa)."
   ]
  },
  {
   "cell_type": "code",
   "execution_count": 7,
   "id": "3799ecd3",
   "metadata": {
    "execution": {
     "iopub.execute_input": "2021-08-04T15:11:51.612634Z",
     "iopub.status.busy": "2021-08-04T15:11:51.611603Z",
     "iopub.status.idle": "2021-08-04T15:11:51.619365Z",
     "shell.execute_reply": "2021-08-04T15:11:51.618663Z",
     "shell.execute_reply.started": "2021-08-04T14:59:05.245595Z"
    },
    "papermill": {
     "duration": 0.039757,
     "end_time": "2021-08-04T15:11:51.619514",
     "exception": false,
     "start_time": "2021-08-04T15:11:51.579757",
     "status": "completed"
    },
    "tags": []
   },
   "outputs": [
    {
     "data": {
      "application/javascript": [
       "parent.postMessage({\"jupyterEvent\": \"custom.exercise_interaction\", \"data\": {\"outcomeType\": 1, \"valueTowardsCompletion\": 0.25, \"interactionType\": 1, \"questionType\": 2, \"questionId\": \"2_VariableSwap\", \"learnToolsVersion\": \"0.3.4\", \"failureMessage\": \"\", \"exceptionClass\": \"\", \"trace\": \"\"}}, \"*\")"
      ],
      "text/plain": [
       "<IPython.core.display.Javascript object>"
      ]
     },
     "metadata": {},
     "output_type": "display_data"
    },
    {
     "data": {
      "text/markdown": [
       "<span style=\"color:#33cc33\">Correct:</span> \n",
       "\n",
       "The most straightforward solution is to use a third variable to temporarily store one of the old values. e.g.:\n",
       "\n",
       "    tmp = a\n",
       "    a = b\n",
       "    b = tmp\n",
       "\n",
       "If you've read lots of Python code, you might have seen the following trick to swap two variables in one line:\n",
       "\n",
       "    a, b = b, a\n",
       "\n",
       "We'll demystify this bit of Python magic later when we talk about *tuples*."
      ],
      "text/plain": [
       "Correct: \n",
       "\n",
       "The most straightforward solution is to use a third variable to temporarily store one of the old values. e.g.:\n",
       "\n",
       "    tmp = a\n",
       "    a = b\n",
       "    b = tmp\n",
       "\n",
       "If you've read lots of Python code, you might have seen the following trick to swap two variables in one line:\n",
       "\n",
       "    a, b = b, a\n",
       "\n",
       "We'll demystify this bit of Python magic later when we talk about *tuples*."
      ]
     },
     "metadata": {},
     "output_type": "display_data"
    }
   ],
   "source": [
    "########### Setup code - don't touch this part ######################\n",
    "# If you're curious, these are examples of lists. We'll talk about \n",
    "# them in depth a few lessons from now. For now, just know that they're\n",
    "# yet another type of Python object, like int or float.\n",
    "a = [1, 2, 3]\n",
    "b = [3, 2, 1]\n",
    "q2.store_original_ids()\n",
    "######################################################################\n",
    "\n",
    "# Your code goes here. Swap the values to which a and b refer.\n",
    "# If you get stuck, you can always uncomment one or both of the lines in\n",
    "# the next cell for a hint, or to peek at the solution.\n",
    "a, b = b, a\n",
    "######################################################################\n",
    "\n",
    "# Check your answer\n",
    "q2.check()"
   ]
  },
  {
   "cell_type": "code",
   "execution_count": 8,
   "id": "805c2cd5",
   "metadata": {
    "execution": {
     "iopub.execute_input": "2021-08-04T15:11:51.673424Z",
     "iopub.status.busy": "2021-08-04T15:11:51.672714Z",
     "iopub.status.idle": "2021-08-04T15:11:51.676447Z",
     "shell.execute_reply": "2021-08-04T15:11:51.675660Z"
    },
    "papermill": {
     "duration": 0.032654,
     "end_time": "2021-08-04T15:11:51.676597",
     "exception": false,
     "start_time": "2021-08-04T15:11:51.643943",
     "status": "completed"
    },
    "tags": []
   },
   "outputs": [],
   "source": [
    "#q2.hint()"
   ]
  },
  {
   "cell_type": "code",
   "execution_count": 9,
   "id": "1b5ce481",
   "metadata": {
    "execution": {
     "iopub.execute_input": "2021-08-04T15:11:51.730618Z",
     "iopub.status.busy": "2021-08-04T15:11:51.729975Z",
     "iopub.status.idle": "2021-08-04T15:11:51.733633Z",
     "shell.execute_reply": "2021-08-04T15:11:51.732978Z"
    },
    "papermill": {
     "duration": 0.032573,
     "end_time": "2021-08-04T15:11:51.733776",
     "exception": false,
     "start_time": "2021-08-04T15:11:51.701203",
     "status": "completed"
    },
    "tags": []
   },
   "outputs": [],
   "source": [
    "#q2.solution()"
   ]
  },
  {
   "cell_type": "markdown",
   "id": "adaecac9",
   "metadata": {
    "papermill": {
     "duration": 0.025875,
     "end_time": "2021-08-04T15:11:51.789232",
     "exception": false,
     "start_time": "2021-08-04T15:11:51.763357",
     "status": "completed"
    },
    "tags": []
   },
   "source": [
    "<hr/>\n",
    "\n",
    "# 3a.\n",
    "\n",
    "Add parentheses to the following expression so that it evaluates to 1."
   ]
  },
  {
   "cell_type": "code",
   "execution_count": 10,
   "id": "fe0666a5",
   "metadata": {
    "execution": {
     "iopub.execute_input": "2021-08-04T15:11:51.844519Z",
     "iopub.status.busy": "2021-08-04T15:11:51.843641Z",
     "iopub.status.idle": "2021-08-04T15:11:51.849117Z",
     "shell.execute_reply": "2021-08-04T15:11:51.848523Z",
     "shell.execute_reply.started": "2021-08-04T14:59:59.146390Z"
    },
    "papermill": {
     "duration": 0.035488,
     "end_time": "2021-08-04T15:11:51.849273",
     "exception": false,
     "start_time": "2021-08-04T15:11:51.813785",
     "status": "completed"
    },
    "tags": []
   },
   "outputs": [
    {
     "data": {
      "text/plain": [
       "1"
      ]
     },
     "execution_count": 10,
     "metadata": {},
     "output_type": "execute_result"
    }
   ],
   "source": [
    "(5 - 3) // 2"
   ]
  },
  {
   "cell_type": "code",
   "execution_count": 11,
   "id": "e9b446be",
   "metadata": {
    "execution": {
     "iopub.execute_input": "2021-08-04T15:11:51.903372Z",
     "iopub.status.busy": "2021-08-04T15:11:51.902312Z",
     "iopub.status.idle": "2021-08-04T15:11:51.905294Z",
     "shell.execute_reply": "2021-08-04T15:11:51.904712Z"
    },
    "papermill": {
     "duration": 0.031568,
     "end_time": "2021-08-04T15:11:51.905434",
     "exception": false,
     "start_time": "2021-08-04T15:11:51.873866",
     "status": "completed"
    },
    "tags": []
   },
   "outputs": [],
   "source": [
    "#q3.a.hint()"
   ]
  },
  {
   "cell_type": "code",
   "execution_count": 12,
   "id": "d7dfcdee",
   "metadata": {
    "execution": {
     "iopub.execute_input": "2021-08-04T15:11:51.958218Z",
     "iopub.status.busy": "2021-08-04T15:11:51.957251Z",
     "iopub.status.idle": "2021-08-04T15:11:51.964974Z",
     "shell.execute_reply": "2021-08-04T15:11:51.965494Z",
     "shell.execute_reply.started": "2021-08-04T15:00:37.790870Z"
    },
    "papermill": {
     "duration": 0.035806,
     "end_time": "2021-08-04T15:11:51.965666",
     "exception": false,
     "start_time": "2021-08-04T15:11:51.929860",
     "status": "completed"
    },
    "tags": []
   },
   "outputs": [
    {
     "data": {
      "application/javascript": [
       "parent.postMessage({\"jupyterEvent\": \"custom.exercise_interaction\", \"data\": {\"interactionType\": 3, \"questionType\": 4, \"questionId\": \"3.1_ArithmeticParensEasy\", \"learnToolsVersion\": \"0.3.4\", \"valueTowardsCompletion\": 0.0, \"failureMessage\": \"\", \"exceptionClass\": \"\", \"trace\": \"\", \"outcomeType\": 4}}, \"*\")"
      ],
      "text/plain": [
       "<IPython.core.display.Javascript object>"
      ]
     },
     "metadata": {},
     "output_type": "display_data"
    },
    {
     "data": {
      "text/markdown": [
       "<span style=\"color:#33cc99\">Solution:</span> \n",
       "```python\n",
       "(5 - 3) // 2\n",
       "```"
      ],
      "text/plain": [
       "Solution: \n",
       "```python\n",
       "(5 - 3) // 2\n",
       "```"
      ]
     },
     "metadata": {},
     "output_type": "display_data"
    }
   ],
   "source": [
    "# Check your answer (Run this code cell to receive credit!)\n",
    "q3.a.solution()"
   ]
  },
  {
   "cell_type": "markdown",
   "id": "a32dc232",
   "metadata": {
    "papermill": {
     "duration": 0.025552,
     "end_time": "2021-08-04T15:11:52.016874",
     "exception": false,
     "start_time": "2021-08-04T15:11:51.991322",
     "status": "completed"
    },
    "tags": []
   },
   "source": [
    "# 3b.  <span title=\"A bit spicy\" style=\"color: darkgreen \">🌶️</span>\n",
    "\n",
    "<small>Questions, like this one, marked a spicy pepper are a bit harder.</small>\n",
    "\n",
    "Add parentheses to the following expression so that it evaluates to 0."
   ]
  },
  {
   "cell_type": "code",
   "execution_count": 13,
   "id": "fea6a190",
   "metadata": {
    "execution": {
     "iopub.execute_input": "2021-08-04T15:11:52.074010Z",
     "iopub.status.busy": "2021-08-04T15:11:52.072966Z",
     "iopub.status.idle": "2021-08-04T15:11:52.079531Z",
     "shell.execute_reply": "2021-08-04T15:11:52.080053Z",
     "shell.execute_reply.started": "2021-08-04T15:06:54.555926Z"
    },
    "papermill": {
     "duration": 0.036333,
     "end_time": "2021-08-04T15:11:52.080250",
     "exception": false,
     "start_time": "2021-08-04T15:11:52.043917",
     "status": "completed"
    },
    "tags": []
   },
   "outputs": [
    {
     "data": {
      "text/plain": [
       "0"
      ]
     },
     "execution_count": 13,
     "metadata": {},
     "output_type": "execute_result"
    }
   ],
   "source": [
    "(8 - 3) * (2 - (1 + 1))"
   ]
  },
  {
   "cell_type": "code",
   "execution_count": 14,
   "id": "f1966b29",
   "metadata": {
    "execution": {
     "iopub.execute_input": "2021-08-04T15:11:52.137611Z",
     "iopub.status.busy": "2021-08-04T15:11:52.136636Z",
     "iopub.status.idle": "2021-08-04T15:11:52.140058Z",
     "shell.execute_reply": "2021-08-04T15:11:52.140493Z",
     "shell.execute_reply.started": "2021-08-04T15:05:18.454528Z"
    },
    "papermill": {
     "duration": 0.033426,
     "end_time": "2021-08-04T15:11:52.140678",
     "exception": false,
     "start_time": "2021-08-04T15:11:52.107252",
     "status": "completed"
    },
    "tags": []
   },
   "outputs": [],
   "source": [
    "#q3.b.hint()"
   ]
  },
  {
   "cell_type": "code",
   "execution_count": 15,
   "id": "6d806cff",
   "metadata": {
    "execution": {
     "iopub.execute_input": "2021-08-04T15:11:52.196909Z",
     "iopub.status.busy": "2021-08-04T15:11:52.195938Z",
     "iopub.status.idle": "2021-08-04T15:11:52.203414Z",
     "shell.execute_reply": "2021-08-04T15:11:52.203844Z",
     "shell.execute_reply.started": "2021-08-04T15:06:22.355876Z"
    },
    "papermill": {
     "duration": 0.037149,
     "end_time": "2021-08-04T15:11:52.204074",
     "exception": false,
     "start_time": "2021-08-04T15:11:52.166925",
     "status": "completed"
    },
    "tags": []
   },
   "outputs": [
    {
     "data": {
      "application/javascript": [
       "parent.postMessage({\"jupyterEvent\": \"custom.exercise_interaction\", \"data\": {\"interactionType\": 3, \"questionType\": 4, \"questionId\": \"3.2_ArithmeticParensHard\", \"learnToolsVersion\": \"0.3.4\", \"valueTowardsCompletion\": 0.0, \"failureMessage\": \"\", \"exceptionClass\": \"\", \"trace\": \"\", \"outcomeType\": 4}}, \"*\")"
      ],
      "text/plain": [
       "<IPython.core.display.Javascript object>"
      ]
     },
     "metadata": {},
     "output_type": "display_data"
    },
    {
     "data": {
      "text/markdown": [
       "<span style=\"color:#33cc99\">Solution:</span> `(8 - 3) * (2 - (1 + 1))` is one solution. There may be others."
      ],
      "text/plain": [
       "Solution: `(8 - 3) * (2 - (1 + 1))` is one solution. There may be others."
      ]
     },
     "metadata": {},
     "output_type": "display_data"
    }
   ],
   "source": [
    "# Check your answer (Run this code cell to receive credit!)\n",
    "q3.b.solution()"
   ]
  },
  {
   "cell_type": "markdown",
   "id": "21e1361f",
   "metadata": {
    "papermill": {
     "duration": 0.026641,
     "end_time": "2021-08-04T15:11:52.257508",
     "exception": false,
     "start_time": "2021-08-04T15:11:52.230867",
     "status": "completed"
    },
    "tags": []
   },
   "source": [
    "<hr/>\n",
    "\n",
    "# 4. \n",
    "Alice, Bob and Carol have agreed to pool their Halloween candy and split it evenly among themselves.\n",
    "For the sake of their friendship, any candies left over will be smashed. For example, if they collectively\n",
    "bring home 91 candies, they'll take 30 each and smash 1.\n",
    "\n",
    "Write an arithmetic expression below to calculate how many candies they must smash for a given haul."
   ]
  },
  {
   "cell_type": "code",
   "execution_count": 16,
   "id": "781c916e",
   "metadata": {
    "execution": {
     "iopub.execute_input": "2021-08-04T15:11:52.315495Z",
     "iopub.status.busy": "2021-08-04T15:11:52.314488Z",
     "iopub.status.idle": "2021-08-04T15:11:52.325827Z",
     "shell.execute_reply": "2021-08-04T15:11:52.325221Z",
     "shell.execute_reply.started": "2021-08-04T15:10:47.954589Z"
    },
    "papermill": {
     "duration": 0.041462,
     "end_time": "2021-08-04T15:11:52.326011",
     "exception": false,
     "start_time": "2021-08-04T15:11:52.284549",
     "status": "completed"
    },
    "tags": []
   },
   "outputs": [
    {
     "name": "stdout",
     "output_type": "stream",
     "text": [
      "1\n"
     ]
    },
    {
     "data": {
      "application/javascript": [
       "parent.postMessage({\"jupyterEvent\": \"custom.exercise_interaction\", \"data\": {\"outcomeType\": 1, \"valueTowardsCompletion\": 0.25, \"interactionType\": 1, \"questionType\": 1, \"questionId\": \"4_CandySplitting\", \"learnToolsVersion\": \"0.3.4\", \"failureMessage\": \"\", \"exceptionClass\": \"\", \"trace\": \"\"}}, \"*\")"
      ],
      "text/plain": [
       "<IPython.core.display.Javascript object>"
      ]
     },
     "metadata": {},
     "output_type": "display_data"
    },
    {
     "data": {
      "text/markdown": [
       "<span style=\"color:#33cc33\">Correct</span>"
      ],
      "text/plain": [
       "Correct"
      ]
     },
     "metadata": {},
     "output_type": "display_data"
    }
   ],
   "source": [
    "# Variables representing the number of candies collected by alice, bob, and carol\n",
    "alice_candies = 121\n",
    "bob_candies = 77\n",
    "carol_candies = 109\n",
    "\n",
    "# Your code goes here! Replace the right-hand side of this assignment with an expression\n",
    "# involving alice_candies, bob_candies, and carol_candies\n",
    "print((alice_candies + bob_candies + carol_candies) % 3) \n",
    "to_smash = 1\n",
    "\n",
    "# Check your answer\n",
    "q4.check()"
   ]
  },
  {
   "cell_type": "code",
   "execution_count": 17,
   "id": "0a1907e6",
   "metadata": {
    "execution": {
     "iopub.execute_input": "2021-08-04T15:11:52.388425Z",
     "iopub.status.busy": "2021-08-04T15:11:52.387658Z",
     "iopub.status.idle": "2021-08-04T15:11:52.397581Z",
     "shell.execute_reply": "2021-08-04T15:11:52.396948Z",
     "shell.execute_reply.started": "2021-08-04T15:10:58.565820Z"
    },
    "papermill": {
     "duration": 0.043334,
     "end_time": "2021-08-04T15:11:52.397745",
     "exception": false,
     "start_time": "2021-08-04T15:11:52.354411",
     "status": "completed"
    },
    "tags": []
   },
   "outputs": [
    {
     "data": {
      "application/javascript": [
       "parent.postMessage({\"jupyterEvent\": \"custom.exercise_interaction\", \"data\": {\"interactionType\": 2, \"questionType\": 1, \"questionId\": \"4_CandySplitting\", \"learnToolsVersion\": \"0.3.4\", \"valueTowardsCompletion\": 0.0, \"failureMessage\": \"\", \"exceptionClass\": \"\", \"trace\": \"\", \"outcomeType\": 4}}, \"*\")"
      ],
      "text/plain": [
       "<IPython.core.display.Javascript object>"
      ]
     },
     "metadata": {},
     "output_type": "display_data"
    },
    {
     "data": {
      "text/markdown": [
       "<span style=\"color:#3366cc\">Hint 1:</span> You'll probably want to use the modulo operator, `%`.\n",
       "(For another hint, call `.hint(2)`)"
      ],
      "text/plain": [
       "Hint 1: You'll probably want to use the modulo operator, `%`.\n",
       "(For another hint, call `.hint(2)`)"
      ]
     },
     "metadata": {},
     "output_type": "display_data"
    },
    {
     "data": {
      "application/javascript": [
       "parent.postMessage({\"jupyterEvent\": \"custom.exercise_interaction\", \"data\": {\"interactionType\": 3, \"questionType\": 1, \"questionId\": \"4_CandySplitting\", \"learnToolsVersion\": \"0.3.4\", \"valueTowardsCompletion\": 0.0, \"failureMessage\": \"\", \"exceptionClass\": \"\", \"trace\": \"\", \"outcomeType\": 4}}, \"*\")"
      ],
      "text/plain": [
       "<IPython.core.display.Javascript object>"
      ]
     },
     "metadata": {},
     "output_type": "display_data"
    },
    {
     "data": {
      "text/markdown": [
       "<span style=\"color:#33cc99\">Solution:</span> \n",
       "```python\n",
       "(alice_candies + bob_candies + carol_candies) % 3\n",
       "```"
      ],
      "text/plain": [
       "Solution: \n",
       "```python\n",
       "(alice_candies + bob_candies + carol_candies) % 3\n",
       "```"
      ]
     },
     "metadata": {},
     "output_type": "display_data"
    }
   ],
   "source": [
    "q4.hint()\n",
    "q4.solution()"
   ]
  },
  {
   "cell_type": "markdown",
   "id": "f758e721",
   "metadata": {
    "papermill": {
     "duration": 0.030471,
     "end_time": "2021-08-04T15:11:52.458953",
     "exception": false,
     "start_time": "2021-08-04T15:11:52.428482",
     "status": "completed"
    },
    "tags": []
   },
   "source": [
    "# Keep Going\n",
    "\n",
    "Next up, you'll **[learn to write new functions and understand functions others write](https://www.kaggle.com/colinmorris/functions-and-getting-help)**. This will make you at least 10 times more productive as a Python programmer. "
   ]
  },
  {
   "cell_type": "markdown",
   "id": "4fef2f2f",
   "metadata": {
    "papermill": {
     "duration": 0.029843,
     "end_time": "2021-08-04T15:11:52.519088",
     "exception": false,
     "start_time": "2021-08-04T15:11:52.489245",
     "status": "completed"
    },
    "tags": []
   },
   "source": [
    "---\n",
    "\n",
    "\n",
    "\n",
    "\n",
    "*Have questions or comments? Visit the [Learn Discussion forum](https://www.kaggle.com/learn-forum/161283) to chat with other Learners.*"
   ]
  }
 ],
 "metadata": {
  "kernelspec": {
   "display_name": "Python 3",
   "language": "python",
   "name": "python3"
  },
  "language_info": {
   "codemirror_mode": {
    "name": "ipython",
    "version": 3
   },
   "file_extension": ".py",
   "mimetype": "text/x-python",
   "name": "python",
   "nbconvert_exporter": "python",
   "pygments_lexer": "ipython3",
   "version": "3.7.10"
  },
  "papermill": {
   "default_parameters": {},
   "duration": 11.903543,
   "end_time": "2021-08-04T15:11:53.790305",
   "environment_variables": {},
   "exception": null,
   "input_path": "__notebook__.ipynb",
   "output_path": "__notebook__.ipynb",
   "parameters": {},
   "start_time": "2021-08-04T15:11:41.886762",
   "version": "2.3.3"
  }
 },
 "nbformat": 4,
 "nbformat_minor": 5
}
